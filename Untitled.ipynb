{
 "cells": [
  {
   "cell_type": "code",
   "execution_count": 1,
   "id": "da1dda35",
   "metadata": {},
   "outputs": [],
   "source": [
    "di = {}\n",
    "di[\"Hello\"] = 30"
   ]
  },
  {
   "cell_type": "code",
   "execution_count": 2,
   "id": "19535f0c",
   "metadata": {},
   "outputs": [
    {
     "data": {
      "text/plain": [
       "{'Hello': 30}"
      ]
     },
     "execution_count": 2,
     "metadata": {},
     "output_type": "execute_result"
    }
   ],
   "source": [
    "di"
   ]
  },
  {
   "cell_type": "code",
   "execution_count": 4,
   "id": "637df719",
   "metadata": {},
   "outputs": [
    {
     "data": {
      "text/plain": [
       "{'Dt': [],\n",
       " 'Conditions': [],\n",
       " 'Class': [],\n",
       " 'Lor': [],\n",
       " 'Land': [],\n",
       " 'Lnot': [],\n",
       " 'Co': [],\n",
       " 'WoConditions': [],\n",
       " 'Am': [],\n",
       " 'Cs': [],\n",
       " 'Operators': [],\n",
       " 'For': [],\n",
       " 'Catch': [],\n",
       " 'Is': [],\n",
       " 'INTEGER': [],\n",
       " 'FLOAT': [],\n",
       " 'OPERATORS': [],\n",
       " 'STRING': [],\n",
       " 'Paren': [],\n",
       " 'IDENTIFIER': []}"
      ]
     },
     "execution_count": 4,
     "metadata": {},
     "output_type": "execute_result"
    }
   ],
   "source": [
    "tokens =  {k:[] for k in ['Dt', 'Conditions', 'Class','Lor', 'Land', 'Lnot'\n",
    "                            ,'Co', 'WoConditions', 'Am','Cs', 'Operators', 'For','Catch','Is',\n",
    "                            'INTEGER','FLOAT','OPERATORS','STRING','Paren','IDENTIFIER']}\n",
    "tokens"
   ]
  },
  {
   "cell_type": "code",
   "execution_count": 2,
   "id": "a7e45b9d",
   "metadata": {},
   "outputs": [],
   "source": [
    "tokens['Dt'].append(\"h\")"
   ]
  },
  {
   "cell_type": "code",
   "execution_count": 3,
   "id": "e5db02bc",
   "metadata": {},
   "outputs": [
    {
     "data": {
      "text/plain": [
       "{'Dt': ['h'],\n",
       " 'Conditions': ['h'],\n",
       " 'Class': ['h'],\n",
       " 'Lor': ['h'],\n",
       " 'Land': ['h'],\n",
       " 'Lnot': ['h'],\n",
       " 'Co': ['h'],\n",
       " 'WoConditions': ['h'],\n",
       " 'Am': ['h'],\n",
       " 'Cs': ['h'],\n",
       " 'Operators': ['h'],\n",
       " 'For': ['h'],\n",
       " 'Catch': ['h'],\n",
       " 'Is': ['h'],\n",
       " 'INTEGER': ['h'],\n",
       " 'FLOAT': ['h'],\n",
       " 'OPERATORS': ['h'],\n",
       " 'STRING': ['h'],\n",
       " 'Paren': ['h'],\n",
       " 'IDENTIFIER': ['h']}"
      ]
     },
     "execution_count": 3,
     "metadata": {},
     "output_type": "execute_result"
    }
   ],
   "source": [
    "tokens"
   ]
  },
  {
   "cell_type": "code",
   "execution_count": 3,
   "id": "c72cac15",
   "metadata": {},
   "outputs": [
    {
     "data": {
      "text/plain": [
       "<re.Match object; span=(0, 15), match='\"xvdvdnvldvhuz\"'>"
      ]
     },
     "execution_count": 3,
     "metadata": {},
     "output_type": "execute_result"
    }
   ],
   "source": [
    "import re\n",
    "re.match(r'^\".+\"$','\"xvdvdnvldvhuz\"')"
   ]
  },
  {
   "cell_type": "code",
   "execution_count": 4,
   "id": "40e9d321",
   "metadata": {},
   "outputs": [
    {
     "data": {
      "text/plain": [
       "1.0"
      ]
     },
     "execution_count": 4,
     "metadata": {},
     "output_type": "execute_result"
    }
   ],
   "source": [
    "1."
   ]
  },
  {
   "cell_type": "code",
   "execution_count": 29,
   "id": "8bdc5dd5",
   "metadata": {},
   "outputs": [
    {
     "data": {
      "text/plain": [
       "<re.Match object; span=(0, 3), match='3im'>"
      ]
     },
     "execution_count": 29,
     "metadata": {},
     "output_type": "execute_result"
    }
   ],
   "source": [
    "# 1+3i\n",
    "# 3.1i\n",
    "# i\n",
    "'^\\d*\\+?\\d*(.\\d)?i'\n",
    "re.match('^\\d*\\+?\\d*(.\\d)?im$','3im')\n"
   ]
  },
  {
   "cell_type": "code",
   "execution_count": 2,
   "id": "43a9f6be",
   "metadata": {},
   "outputs": [
    {
     "data": {
      "text/plain": [
       "'d'"
      ]
     },
     "execution_count": 2,
     "metadata": {},
     "output_type": "execute_result"
    }
   ],
   "source": [
    "l = \"abcd\"\n",
    "l[-1]"
   ]
  },
  {
   "cell_type": "code",
   "execution_count": 5,
   "id": "b5736b19",
   "metadata": {},
   "outputs": [
    {
     "name": "stdout",
     "output_type": "stream",
     "text": [
      "prog main() return null {\n",
      "\n",
      "    number int Is read(\"Enter the number: \");\n",
      "    total int Is 0 ;\n",
      "\n",
      "    for i in [1 to number]{\n",
      "\n",
      "    ~ adding all the numbers upto 'number'.\n",
      "\n",
      "        total Incas i;\n",
      "        }\n",
      "\n",
      "    a Is a+1\n",
      "    write(\"The 'total' is \", total,\".\");\n",
      "    img a Is 3im;\n",
      "\n",
      "    flt num1 Is 1.2;\n",
      "    a.b;\n",
      "    1.a;\n",
      "    a.2;\n",
      "\n",
      "\n",
      "\n",
      " ` adding all the numbers upto 'number' `\n",
      " }\n",
      " #\n"
     ]
    }
   ],
   "source": [
    "with open('text.ptt','r') as file:\n",
    "        content = file.read()\n",
    "        \n",
    "print(content)\n",
    "\n",
    "\n",
    "\n"
   ]
  },
  {
   "cell_type": "code",
   "execution_count": 10,
   "id": "d655ebbb",
   "metadata": {},
   "outputs": [],
   "source": [
    "class Token:\n",
    "    def __init__(self) -> None:\n",
    "        self.cp = ''\n",
    "        self.vp = ''\n",
    "        self.ln = None"
   ]
  },
  {
   "cell_type": "code",
   "execution_count": 11,
   "id": "7ff5b2c7",
   "metadata": {},
   "outputs": [],
   "source": [
    "t = Token()\n",
    "t.cp = '23'\n",
    "t.vp = '3'\n",
    "t.ln = 2\n"
   ]
  },
  {
   "cell_type": "code",
   "execution_count": 12,
   "id": "8c3df69e",
   "metadata": {},
   "outputs": [
    {
     "data": {
      "text/plain": [
       "2"
      ]
     },
     "execution_count": 12,
     "metadata": {},
     "output_type": "execute_result"
    }
   ],
   "source": [
    "t.ln"
   ]
  },
  {
   "cell_type": "code",
   "execution_count": 13,
   "id": "1b10b78c",
   "metadata": {},
   "outputs": [],
   "source": [
    "ls = []\n",
    "ls.append(t)"
   ]
  },
  {
   "cell_type": "code",
   "execution_count": 15,
   "id": "00f5f58c",
   "metadata": {},
   "outputs": [
    {
     "data": {
      "text/plain": [
       "<__main__.Token at 0x23e089a3d60>"
      ]
     },
     "execution_count": 15,
     "metadata": {},
     "output_type": "execute_result"
    }
   ],
   "source": [
    "ls[0]"
   ]
  },
  {
   "cell_type": "code",
   "execution_count": null,
   "id": "7c506aba",
   "metadata": {},
   "outputs": [],
   "source": []
  }
 ],
 "metadata": {
  "kernelspec": {
   "display_name": "Python 3.10.4 ('streamlit')",
   "language": "python",
   "name": "python3"
  },
  "language_info": {
   "codemirror_mode": {
    "name": "ipython",
    "version": 3
   },
   "file_extension": ".py",
   "mimetype": "text/x-python",
   "name": "python",
   "nbconvert_exporter": "python",
   "pygments_lexer": "ipython3",
   "version": "3.10.4"
  },
  "vscode": {
   "interpreter": {
    "hash": "dcd0a1bd7af572db4d243ae4bfc9bced81ce998491572e4e27464d4eace6b4a4"
   }
  }
 },
 "nbformat": 4,
 "nbformat_minor": 5
}
